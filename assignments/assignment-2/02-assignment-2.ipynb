{
 "cells": [
  {
   "cell_type": "markdown",
   "metadata": {},
   "source": [
    "MVTec AD - Information\n",
    "Diverse character categories:\n",
    "- 15 different objects, both including normal and defective variants\n",
    "  - bottles\n",
    "  - capsules\n",
    "  - leather\n",
    "  - pillows\n",
    "  - screws\n",
    "- Defects include:\n",
    "  - Structural defects\n",
    "    - Scratches\n",
    "    - Dents\n",
    "    - Missing parts\n",
    "  - Textural defects\n",
    "    - discoloration\n",
    "    - irregular surface patterns\n",
    "- Dataset sizes and variations\n",
    "  - 70-300 images for training\n",
    "  - Similar # of test images with a variety of defects\n",
    "    - Subtle defects to large defects\n",
    "- Performance benchmark\n",
    "  - Self-supervised learning\n",
    "  - Used to benchmark state-of-the-art methods\n",
    "- Class imbalanace\n",
    "  - Reflects an inherent class imbalance\n",
    "    - More normal samples than defective ones\n",
    "  - Reflects real world settings\n",
    "    - More normal than defective, but have to detect defective\n",
    "\n",
    "Difficult due to:\n",
    "- High Intra-Class Variability\n",
    "  - Normal images have a high degree of variability\n",
    "  - Makes it challeneging to have a concrete example of normality\n",
    "- Subtle anomalies\n",
    "  - Extremely subtle defects\n",
    "  - Hard to distinguish between normal variability or a defect\n",
    "- Multiple anomaly types\n",
    "  - Different defects require an adapative model\n",
    "  - Adapts to multiple characteristics"
   ]
  }
 ],
 "metadata": {
  "kernelspec": {
   "display_name": ".venv",
   "language": "python",
   "name": "python3"
  },
  "language_info": {
   "codemirror_mode": {
    "name": "ipython",
    "version": 3
   },
   "file_extension": ".py",
   "mimetype": "text/x-python",
   "name": "python",
   "nbconvert_exporter": "python",
   "pygments_lexer": "ipython3",
   "version": "3.11.9"
  }
 },
 "nbformat": 4,
 "nbformat_minor": 2
}
