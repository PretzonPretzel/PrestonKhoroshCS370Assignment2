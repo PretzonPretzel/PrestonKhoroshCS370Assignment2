{
 "cells": [
  {
   "cell_type": "markdown",
   "metadata": {},
   "source": [
    "MVTec AD-\n",
    "Diverse character categories:\n",
    "- 15 different objects, both including normal and defective variants\n",
    "  - bottles\n",
    "  - capsules\n",
    "  - leather\n",
    "  - pillows\n",
    "  - screws\n",
    "- Defects include:\n",
    "  - Structural defects\n",
    "    - Scratches\n",
    "    - Dents\n",
    "    - Missing parts\n",
    "  - Textural defects\n",
    "    - discoloration\n",
    "    - irregular surface patterns\n",
    "- Dataset sizes and variations\n",
    "  - 70-300 images for training\n",
    "  - Similar # of test images with a variety of defects\n",
    "    - Subtle defects to large defects\n",
    "- "
   ]
  }
 ],
 "metadata": {
  "language_info": {
   "name": "python"
  }
 },
 "nbformat": 4,
 "nbformat_minor": 2
}
